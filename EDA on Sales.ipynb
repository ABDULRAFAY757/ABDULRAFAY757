{
  "nbformat": 4,
  "nbformat_minor": 0,
  "metadata": {
    "colab": {
      "provenance": [],
      "authorship_tag": "ABX9TyP0eQlTeuywBjmLi9obK/VY",
      "include_colab_link": true
    },
    "kernelspec": {
      "name": "python3",
      "display_name": "Python 3"
    },
    "language_info": {
      "name": "python"
    }
  },
  "cells": [
    {
      "cell_type": "markdown",
      "metadata": {
        "id": "view-in-github",
        "colab_type": "text"
      },
      "source": [
        "<a href=\"https://colab.research.google.com/github/ABDULRAFAY757/ABDULRAFAY757/blob/main/EDA%20on%20Sales.ipynb\" target=\"_parent\"><img src=\"https://colab.research.google.com/assets/colab-badge.svg\" alt=\"Open In Colab\"/></a>"
      ]
    },
    {
      "cell_type": "code",
      "execution_count": null,
      "metadata": {
        "id": "9AW9GpK0pHNU"
      },
      "outputs": [],
      "source": [
        "import pandas as pd"
      ]
    },
    {
      "cell_type": "code",
      "source": [
        "import matplotlib.pyplot as pltb"
      ],
      "metadata": {
        "id": "sfIgaleGphhP"
      },
      "execution_count": null,
      "outputs": []
    },
    {
      "cell_type": "code",
      "source": [
        "data = pd.read_excel(\"/data.xlsx\", sheet_name= 'Data')"
      ],
      "metadata": {
        "id": "RV8S5mYrpoIq"
      },
      "execution_count": null,
      "outputs": []
    },
    {
      "cell_type": "code",
      "source": [
        "data.head()"
      ],
      "metadata": {
        "colab": {
          "base_uri": "https://localhost:8080/",
          "height": 456
        },
        "id": "FCpyhMrAp_d9",
        "outputId": "66d18d32-a37e-49e3-cead-2f044fc13f28"
      },
      "execution_count": null,
      "outputs": [
        {
          "output_type": "execute_result",
          "data": {
            "text/plain": [
              "   Order ID Order Date  Customer ID Customer Name          Address       City  \\\n",
              "0      1368 2014-12-27           27    Company AA  789 27th Street  Las Vegas   \n",
              "1      1369 2014-12-27           27    Company AA  789 27th Street  Las Vegas   \n",
              "2      1370 2014-12-04            4     Company D   123 4th Street   New York   \n",
              "3      1371 2014-12-04            4     Company D   123 4th Street   New York   \n",
              "4      1372 2014-12-04            4     Company D   123 4th Street   New York   \n",
              "\n",
              "  State  ZIP/Postal Code Country/Region       Salesperson  ... Ship State  \\\n",
              "0    NV            99999            USA  Mariya Sergienko  ...         NV   \n",
              "1    NV            99999            USA  Mariya Sergienko  ...         NV   \n",
              "2    NY            99999            USA    Andrew Cencini  ...         NY   \n",
              "3    NY            99999            USA    Andrew Cencini  ...         NY   \n",
              "4    NY            99999            USA    Andrew Cencini  ...         NY   \n",
              "\n",
              "  Ship ZIP/Postal Code Ship Country/Region Payment Type  Product Name  \\\n",
              "0                99999                 USA        Check          Beer   \n",
              "1                99999                 USA        Check   Dried Plums   \n",
              "2                99999                 USA  Credit Card   Dried Pears   \n",
              "3                99999                 USA  Credit Card  Dried Apples   \n",
              "4                99999                 USA  Credit Card   Dried Plums   \n",
              "\n",
              "             Category Unit Price  Quantity Revenue Shipping Fee  \n",
              "0           Beverages       14.0      19.0   266.0       25.802  \n",
              "1  Dried Fruit & Nuts        3.5      60.0   210.0       20.160  \n",
              "2  Dried Fruit & Nuts       30.0      81.0  2430.0      255.150  \n",
              "3  Dried Fruit & Nuts       53.0      83.0  4399.0      461.895  \n",
              "4  Dried Fruit & Nuts        3.5      75.0   262.5       26.250  \n",
              "\n",
              "[5 rows x 26 columns]"
            ],
            "text/html": [
              "\n",
              "  <div id=\"df-fb4bf77c-f9bd-4949-9624-c630a8816b97\">\n",
              "    <div class=\"colab-df-container\">\n",
              "      <div>\n",
              "<style scoped>\n",
              "    .dataframe tbody tr th:only-of-type {\n",
              "        vertical-align: middle;\n",
              "    }\n",
              "\n",
              "    .dataframe tbody tr th {\n",
              "        vertical-align: top;\n",
              "    }\n",
              "\n",
              "    .dataframe thead th {\n",
              "        text-align: right;\n",
              "    }\n",
              "</style>\n",
              "<table border=\"1\" class=\"dataframe\">\n",
              "  <thead>\n",
              "    <tr style=\"text-align: right;\">\n",
              "      <th></th>\n",
              "      <th>Order ID</th>\n",
              "      <th>Order Date</th>\n",
              "      <th>Customer ID</th>\n",
              "      <th>Customer Name</th>\n",
              "      <th>Address</th>\n",
              "      <th>City</th>\n",
              "      <th>State</th>\n",
              "      <th>ZIP/Postal Code</th>\n",
              "      <th>Country/Region</th>\n",
              "      <th>Salesperson</th>\n",
              "      <th>...</th>\n",
              "      <th>Ship State</th>\n",
              "      <th>Ship ZIP/Postal Code</th>\n",
              "      <th>Ship Country/Region</th>\n",
              "      <th>Payment Type</th>\n",
              "      <th>Product Name</th>\n",
              "      <th>Category</th>\n",
              "      <th>Unit Price</th>\n",
              "      <th>Quantity</th>\n",
              "      <th>Revenue</th>\n",
              "      <th>Shipping Fee</th>\n",
              "    </tr>\n",
              "  </thead>\n",
              "  <tbody>\n",
              "    <tr>\n",
              "      <th>0</th>\n",
              "      <td>1368</td>\n",
              "      <td>2014-12-27</td>\n",
              "      <td>27</td>\n",
              "      <td>Company AA</td>\n",
              "      <td>789 27th Street</td>\n",
              "      <td>Las Vegas</td>\n",
              "      <td>NV</td>\n",
              "      <td>99999</td>\n",
              "      <td>USA</td>\n",
              "      <td>Mariya Sergienko</td>\n",
              "      <td>...</td>\n",
              "      <td>NV</td>\n",
              "      <td>99999</td>\n",
              "      <td>USA</td>\n",
              "      <td>Check</td>\n",
              "      <td>Beer</td>\n",
              "      <td>Beverages</td>\n",
              "      <td>14.0</td>\n",
              "      <td>19.0</td>\n",
              "      <td>266.0</td>\n",
              "      <td>25.802</td>\n",
              "    </tr>\n",
              "    <tr>\n",
              "      <th>1</th>\n",
              "      <td>1369</td>\n",
              "      <td>2014-12-27</td>\n",
              "      <td>27</td>\n",
              "      <td>Company AA</td>\n",
              "      <td>789 27th Street</td>\n",
              "      <td>Las Vegas</td>\n",
              "      <td>NV</td>\n",
              "      <td>99999</td>\n",
              "      <td>USA</td>\n",
              "      <td>Mariya Sergienko</td>\n",
              "      <td>...</td>\n",
              "      <td>NV</td>\n",
              "      <td>99999</td>\n",
              "      <td>USA</td>\n",
              "      <td>Check</td>\n",
              "      <td>Dried Plums</td>\n",
              "      <td>Dried Fruit &amp; Nuts</td>\n",
              "      <td>3.5</td>\n",
              "      <td>60.0</td>\n",
              "      <td>210.0</td>\n",
              "      <td>20.160</td>\n",
              "    </tr>\n",
              "    <tr>\n",
              "      <th>2</th>\n",
              "      <td>1370</td>\n",
              "      <td>2014-12-04</td>\n",
              "      <td>4</td>\n",
              "      <td>Company D</td>\n",
              "      <td>123 4th Street</td>\n",
              "      <td>New York</td>\n",
              "      <td>NY</td>\n",
              "      <td>99999</td>\n",
              "      <td>USA</td>\n",
              "      <td>Andrew Cencini</td>\n",
              "      <td>...</td>\n",
              "      <td>NY</td>\n",
              "      <td>99999</td>\n",
              "      <td>USA</td>\n",
              "      <td>Credit Card</td>\n",
              "      <td>Dried Pears</td>\n",
              "      <td>Dried Fruit &amp; Nuts</td>\n",
              "      <td>30.0</td>\n",
              "      <td>81.0</td>\n",
              "      <td>2430.0</td>\n",
              "      <td>255.150</td>\n",
              "    </tr>\n",
              "    <tr>\n",
              "      <th>3</th>\n",
              "      <td>1371</td>\n",
              "      <td>2014-12-04</td>\n",
              "      <td>4</td>\n",
              "      <td>Company D</td>\n",
              "      <td>123 4th Street</td>\n",
              "      <td>New York</td>\n",
              "      <td>NY</td>\n",
              "      <td>99999</td>\n",
              "      <td>USA</td>\n",
              "      <td>Andrew Cencini</td>\n",
              "      <td>...</td>\n",
              "      <td>NY</td>\n",
              "      <td>99999</td>\n",
              "      <td>USA</td>\n",
              "      <td>Credit Card</td>\n",
              "      <td>Dried Apples</td>\n",
              "      <td>Dried Fruit &amp; Nuts</td>\n",
              "      <td>53.0</td>\n",
              "      <td>83.0</td>\n",
              "      <td>4399.0</td>\n",
              "      <td>461.895</td>\n",
              "    </tr>\n",
              "    <tr>\n",
              "      <th>4</th>\n",
              "      <td>1372</td>\n",
              "      <td>2014-12-04</td>\n",
              "      <td>4</td>\n",
              "      <td>Company D</td>\n",
              "      <td>123 4th Street</td>\n",
              "      <td>New York</td>\n",
              "      <td>NY</td>\n",
              "      <td>99999</td>\n",
              "      <td>USA</td>\n",
              "      <td>Andrew Cencini</td>\n",
              "      <td>...</td>\n",
              "      <td>NY</td>\n",
              "      <td>99999</td>\n",
              "      <td>USA</td>\n",
              "      <td>Credit Card</td>\n",
              "      <td>Dried Plums</td>\n",
              "      <td>Dried Fruit &amp; Nuts</td>\n",
              "      <td>3.5</td>\n",
              "      <td>75.0</td>\n",
              "      <td>262.5</td>\n",
              "      <td>26.250</td>\n",
              "    </tr>\n",
              "  </tbody>\n",
              "</table>\n",
              "<p>5 rows × 26 columns</p>\n",
              "</div>\n",
              "      <button class=\"colab-df-convert\" onclick=\"convertToInteractive('df-fb4bf77c-f9bd-4949-9624-c630a8816b97')\"\n",
              "              title=\"Convert this dataframe to an interactive table.\"\n",
              "              style=\"display:none;\">\n",
              "        \n",
              "  <svg xmlns=\"http://www.w3.org/2000/svg\" height=\"24px\"viewBox=\"0 0 24 24\"\n",
              "       width=\"24px\">\n",
              "    <path d=\"M0 0h24v24H0V0z\" fill=\"none\"/>\n",
              "    <path d=\"M18.56 5.44l.94 2.06.94-2.06 2.06-.94-2.06-.94-.94-2.06-.94 2.06-2.06.94zm-11 1L8.5 8.5l.94-2.06 2.06-.94-2.06-.94L8.5 2.5l-.94 2.06-2.06.94zm10 10l.94 2.06.94-2.06 2.06-.94-2.06-.94-.94-2.06-.94 2.06-2.06.94z\"/><path d=\"M17.41 7.96l-1.37-1.37c-.4-.4-.92-.59-1.43-.59-.52 0-1.04.2-1.43.59L10.3 9.45l-7.72 7.72c-.78.78-.78 2.05 0 2.83L4 21.41c.39.39.9.59 1.41.59.51 0 1.02-.2 1.41-.59l7.78-7.78 2.81-2.81c.8-.78.8-2.07 0-2.86zM5.41 20L4 18.59l7.72-7.72 1.47 1.35L5.41 20z\"/>\n",
              "  </svg>\n",
              "      </button>\n",
              "      \n",
              "  <style>\n",
              "    .colab-df-container {\n",
              "      display:flex;\n",
              "      flex-wrap:wrap;\n",
              "      gap: 12px;\n",
              "    }\n",
              "\n",
              "    .colab-df-convert {\n",
              "      background-color: #E8F0FE;\n",
              "      border: none;\n",
              "      border-radius: 50%;\n",
              "      cursor: pointer;\n",
              "      display: none;\n",
              "      fill: #1967D2;\n",
              "      height: 32px;\n",
              "      padding: 0 0 0 0;\n",
              "      width: 32px;\n",
              "    }\n",
              "\n",
              "    .colab-df-convert:hover {\n",
              "      background-color: #E2EBFA;\n",
              "      box-shadow: 0px 1px 2px rgba(60, 64, 67, 0.3), 0px 1px 3px 1px rgba(60, 64, 67, 0.15);\n",
              "      fill: #174EA6;\n",
              "    }\n",
              "\n",
              "    [theme=dark] .colab-df-convert {\n",
              "      background-color: #3B4455;\n",
              "      fill: #D2E3FC;\n",
              "    }\n",
              "\n",
              "    [theme=dark] .colab-df-convert:hover {\n",
              "      background-color: #434B5C;\n",
              "      box-shadow: 0px 1px 3px 1px rgba(0, 0, 0, 0.15);\n",
              "      filter: drop-shadow(0px 1px 2px rgba(0, 0, 0, 0.3));\n",
              "      fill: #FFFFFF;\n",
              "    }\n",
              "  </style>\n",
              "\n",
              "      <script>\n",
              "        const buttonEl =\n",
              "          document.querySelector('#df-fb4bf77c-f9bd-4949-9624-c630a8816b97 button.colab-df-convert');\n",
              "        buttonEl.style.display =\n",
              "          google.colab.kernel.accessAllowed ? 'block' : 'none';\n",
              "\n",
              "        async function convertToInteractive(key) {\n",
              "          const element = document.querySelector('#df-fb4bf77c-f9bd-4949-9624-c630a8816b97');\n",
              "          const dataTable =\n",
              "            await google.colab.kernel.invokeFunction('convertToInteractive',\n",
              "                                                     [key], {});\n",
              "          if (!dataTable) return;\n",
              "\n",
              "          const docLinkHtml = 'Like what you see? Visit the ' +\n",
              "            '<a target=\"_blank\" href=https://colab.research.google.com/notebooks/data_table.ipynb>data table notebook</a>'\n",
              "            + ' to learn more about interactive tables.';\n",
              "          element.innerHTML = '';\n",
              "          dataTable['output_type'] = 'display_data';\n",
              "          await google.colab.output.renderOutput(dataTable, element);\n",
              "          const docLink = document.createElement('div');\n",
              "          docLink.innerHTML = docLinkHtml;\n",
              "          element.appendChild(docLink);\n",
              "        }\n",
              "      </script>\n",
              "    </div>\n",
              "  </div>\n",
              "  "
            ]
          },
          "metadata": {},
          "execution_count": 7
        }
      ]
    },
    {
      "cell_type": "code",
      "source": [
        "data.shape"
      ],
      "metadata": {
        "colab": {
          "base_uri": "https://localhost:8080/"
        },
        "id": "rHrVGMR2qIl5",
        "outputId": "8651c30a-3ea5-40ab-8a53-b996acd2bd2e"
      },
      "execution_count": null,
      "outputs": [
        {
          "output_type": "execute_result",
          "data": {
            "text/plain": [
              "(80, 26)"
            ]
          },
          "metadata": {},
          "execution_count": 9
        }
      ]
    },
    {
      "cell_type": "code",
      "source": [
        "data.info()"
      ],
      "metadata": {
        "colab": {
          "base_uri": "https://localhost:8080/"
        },
        "id": "l0vKMGHQqQqx",
        "outputId": "7d52432a-186b-4424-bd25-cca9f1689bd4"
      },
      "execution_count": null,
      "outputs": [
        {
          "output_type": "stream",
          "name": "stdout",
          "text": [
            "<class 'pandas.core.frame.DataFrame'>\n",
            "RangeIndex: 80 entries, 0 to 79\n",
            "Data columns (total 26 columns):\n",
            " #   Column                Non-Null Count  Dtype         \n",
            "---  ------                --------------  -----         \n",
            " 0   Order ID              80 non-null     int64         \n",
            " 1   Order Date            80 non-null     datetime64[ns]\n",
            " 2   Customer ID           80 non-null     int64         \n",
            " 3   Customer Name         80 non-null     object        \n",
            " 4   Address               80 non-null     object        \n",
            " 5   City                  80 non-null     object        \n",
            " 6   State                 80 non-null     object        \n",
            " 7   ZIP/Postal Code       80 non-null     int64         \n",
            " 8   Country/Region        80 non-null     object        \n",
            " 9   Salesperson           80 non-null     object        \n",
            " 10  Region                80 non-null     object        \n",
            " 11  Shipped Date          68 non-null     datetime64[ns]\n",
            " 12  Shipper Name          73 non-null     object        \n",
            " 13  Ship Name             80 non-null     object        \n",
            " 14  Ship Address          80 non-null     object        \n",
            " 15  Ship City             80 non-null     object        \n",
            " 16  Ship State            80 non-null     object        \n",
            " 17  Ship ZIP/Postal Code  80 non-null     int64         \n",
            " 18  Ship Country/Region   80 non-null     object        \n",
            " 19  Payment Type          65 non-null     object        \n",
            " 20  Product Name          72 non-null     object        \n",
            " 21  Category              80 non-null     object        \n",
            " 22  Unit Price            72 non-null     float64       \n",
            " 23  Quantity              72 non-null     float64       \n",
            " 24  Revenue               80 non-null     float64       \n",
            " 25  Shipping Fee          80 non-null     float64       \n",
            "dtypes: datetime64[ns](2), float64(4), int64(4), object(16)\n",
            "memory usage: 16.4+ KB\n"
          ]
        }
      ]
    },
    {
      "cell_type": "code",
      "source": [
        "data.describe"
      ],
      "metadata": {
        "colab": {
          "base_uri": "https://localhost:8080/"
        },
        "id": "6pH4DDghqtgT",
        "outputId": "b5400576-9d0b-4ec4-9d4b-3430be2b81ea"
      },
      "execution_count": null,
      "outputs": [
        {
          "output_type": "execute_result",
          "data": {
            "text/plain": [
              "<bound method NDFrame.describe of     Order ID Order Date  Customer ID Customer Name          Address  \\\n",
              "0       1368 2014-12-27           27    Company AA  789 27th Street   \n",
              "1       1369 2014-12-27           27    Company AA  789 27th Street   \n",
              "2       1370 2014-12-04            4     Company D   123 4th Street   \n",
              "3       1371 2014-12-04            4     Company D   123 4th Street   \n",
              "4       1372 2014-12-04            4     Company D   123 4th Street   \n",
              "..       ...        ...          ...           ...              ...   \n",
              "75      1443 2015-01-03            3     Company C   123 3rd Street   \n",
              "76      1444 2015-01-06            6     Company F   123 6th Street   \n",
              "77      1445 2015-01-28           28    Company BB  789 28th Street   \n",
              "78      1446 2015-01-08            8     Company H   123 8th Street   \n",
              "79      1447 2015-01-10           10     Company J  123 10th Street   \n",
              "\n",
              "           City State  ZIP/Postal Code Country/Region       Salesperson  ...  \\\n",
              "0     Las Vegas    NV            99999            USA  Mariya Sergienko  ...   \n",
              "1     Las Vegas    NV            99999            USA  Mariya Sergienko  ...   \n",
              "2      New York    NY            99999            USA    Andrew Cencini  ...   \n",
              "3      New York    NY            99999            USA    Andrew Cencini  ...   \n",
              "4      New York    NY            99999            USA    Andrew Cencini  ...   \n",
              "..          ...   ...              ...            ...               ...  ...   \n",
              "75  Los Angelas    CA            99999            USA  Mariya Sergienko  ...   \n",
              "76    Milwaukee    WI            99999            USA   Michael Neipper  ...   \n",
              "77      Memphis    TN            99999            USA       Anne Larsen  ...   \n",
              "78     Portland    OR            99999            USA   Nancy Freehafer  ...   \n",
              "79      Chicago    IL            99999            USA    Laura Giussani  ...   \n",
              "\n",
              "   Ship State Ship ZIP/Postal Code Ship Country/Region Payment Type  \\\n",
              "0          NV                99999                 USA        Check   \n",
              "1          NV                99999                 USA        Check   \n",
              "2          NY                99999                 USA  Credit Card   \n",
              "3          NY                99999                 USA  Credit Card   \n",
              "4          NY                99999                 USA  Credit Card   \n",
              "..        ...                  ...                 ...          ...   \n",
              "75         CA                99999                 USA         Cash   \n",
              "76         WI                99999                 USA  Credit Card   \n",
              "77         TN                99999                 USA        Check   \n",
              "78         OR                99999                 USA        Check   \n",
              "79         IL                99999                 USA  Credit Card   \n",
              "\n",
              "    Product Name            Category Unit Price  Quantity  Revenue  \\\n",
              "0           Beer           Beverages      14.00      19.0   266.00   \n",
              "1    Dried Plums  Dried Fruit & Nuts       3.50      60.0   210.00   \n",
              "2    Dried Pears  Dried Fruit & Nuts      30.00      81.0  2430.00   \n",
              "3   Dried Apples  Dried Fruit & Nuts      53.00      83.0  4399.00   \n",
              "4    Dried Plums  Dried Fruit & Nuts       3.50      75.0   262.50   \n",
              "..           ...                 ...        ...       ...      ...   \n",
              "75  Clam Chowder               Soups       9.65      91.0   878.15   \n",
              "76   Curry Sauce              Sauces      40.00      32.0  1280.00   \n",
              "77        Coffee           Beverages      46.00      55.0  2530.00   \n",
              "78     Chocolate               Candy      12.75      47.0   599.25   \n",
              "79     Green Tea           Beverages       2.99      90.0   269.10   \n",
              "\n",
              "   Shipping Fee  \n",
              "0      25.80200  \n",
              "1      20.16000  \n",
              "2     255.15000  \n",
              "3     461.89500  \n",
              "4      26.25000  \n",
              "..          ...  \n",
              "75     92.20575  \n",
              "76    133.12000  \n",
              "77    253.00000  \n",
              "78     61.72275  \n",
              "79     27.71730  \n",
              "\n",
              "[80 rows x 26 columns]>"
            ]
          },
          "metadata": {},
          "execution_count": 11
        }
      ]
    },
    {
      "cell_type": "code",
      "source": [
        "data[\"Revenue\"].describe()"
      ],
      "metadata": {
        "colab": {
          "base_uri": "https://localhost:8080/"
        },
        "id": "PHAkUGRhq-JG",
        "outputId": "1ee6d58e-14a1-4291-ffc0-15d47eb37b85"
      },
      "execution_count": null,
      "outputs": [
        {
          "output_type": "execute_result",
          "data": {
            "text/plain": [
              "count      80.000000\n",
              "mean     1116.453500\n",
              "std      1114.567941\n",
              "min         0.000000\n",
              "25%       275.827500\n",
              "50%       752.200000\n",
              "75%      1602.375000\n",
              "max      4717.000000\n",
              "Name: Revenue, dtype: float64"
            ]
          },
          "metadata": {},
          "execution_count": 12
        }
      ]
    },
    {
      "cell_type": "code",
      "source": [
        "h=data[\"Revenue\"].plot(kind='hist', figsize=(12,6) )\n",
        "h.set_ylabel('dollar')\n",
        "h.set_xlabel('Revenue')"
      ],
      "metadata": {
        "colab": {
          "base_uri": "https://localhost:8080/",
          "height": 405
        },
        "id": "LADTBerFrIZN",
        "outputId": "1fd991eb-b524-4c0c-cef4-5001d7209eb2"
      },
      "execution_count": null,
      "outputs": [
        {
          "output_type": "execute_result",
          "data": {
            "text/plain": [
              "Text(0.5, 0, 'Revenue')"
            ]
          },
          "metadata": {},
          "execution_count": 13
        },
        {
          "output_type": "display_data",
          "data": {
            "text/plain": [
              "<Figure size 864x432 with 1 Axes>"
            ],
            "image/png": "[encoded data removed]"
          },
          "metadata": {
            "needs_background": "light"
          }
        }
      ]
    },
    {
      "cell_type": "code",
      "source": [
        "data[\"Category\"].value_counts()"
      ],
      "metadata": {
        "colab": {
          "base_uri": "https://localhost:8080/"
        },
        "id": "8BV6YcdUrlOp",
        "outputId": "4afaf56c-0e3d-4938-c22c-054cad140cc6"
      },
      "execution_count": null,
      "outputs": [
        {
          "output_type": "execute_result",
          "data": {
            "text/plain": [
              "Beverages              19\n",
              "Dried Fruit & Nuts     13\n",
              "Shipping Fee            8\n",
              "Baked Goods & Mixes     7\n",
              "Candy                   7\n",
              "Soups                   5\n",
              "Sauces                  5\n",
              "Jams, Preserves         3\n",
              "Condiments              3\n",
              "Canned Meat             3\n",
              "Pasta                   2\n",
              "Dairy Products          2\n",
              "Oil                     1\n",
              "Grains                  1\n",
              "Fruit & Veg             1\n",
              "Name: Category, dtype: int64"
            ]
          },
          "metadata": {},
          "execution_count": 14
        }
      ]
    },
    {
      "cell_type": "code",
      "source": [
        "data[\"Category\"].value_counts().plot(kind='bar', figsize=(12,5))"
      ],
      "metadata": {
        "colab": {
          "base_uri": "https://localhost:8080/",
          "height": 435
        },
        "id": "jRf_CXJWrxCx",
        "outputId": "4b01a97e-3a66-4974-dc7d-2607ceb4435d"
      },
      "execution_count": null,
      "outputs": [
        {
          "output_type": "execute_result",
          "data": {
            "text/plain": [
              "<matplotlib.axes._subplots.AxesSubplot at 0x7fddadf80b90>"
            ]
          },
          "metadata": {},
          "execution_count": 15
        },
        {
          "output_type": "display_data",
          "data": {
            "text/plain": [
              "<Figure size 864x360 with 1 Axes>"
            ],
            "image/png": "[encoded data removed]"
          },
          "metadata": {
            "needs_background": "light"
          }
        }
      ]
    },
    {
      "cell_type": "code",
      "source": [
        "data[\"Category\"].value_counts().plot(kind='pie', figsize=(10,5))"
      ],
      "metadata": {
        "colab": {
          "base_uri": "https://localhost:8080/",
          "height": 320
        },
        "id": "3J1-gl4Hsmel",
        "outputId": "5168df1d-ac1c-485c-9a6c-d644df297063"
      },
      "execution_count": null,
      "outputs": [
        {
          "output_type": "execute_result",
          "data": {
            "text/plain": [
              "<matplotlib.axes._subplots.AxesSubplot at 0x7fddade542d0>"
            ]
          },
          "metadata": {},
          "execution_count": 17
        },
        {
          "output_type": "display_data",
          "data": {
            "text/plain": [
              "<Figure size 720x360 with 1 Axes>"
            ],
            "image/png": "[encoded data removed]"
          },
          "metadata": {}
        }
      ]
    },
    {
      "cell_type": "code",
      "source": [
        "num_col= data[[\"Unit Price\", \"Quantity\", \"Revenue\", \"Shipping Fee\"]]\n",
        "cor_matrix=num_col.corr()\n",
        "cor_matrix"
      ],
      "metadata": {
        "colab": {
          "base_uri": "https://localhost:8080/",
          "height": 175
        },
        "id": "R-Tcix-bs2FY",
        "outputId": "4c4c5ef4-9499-4a4a-fe63-b7e773028b67"
      },
      "execution_count": null,
      "outputs": [
        {
          "output_type": "execute_result",
          "data": {
            "text/plain": [
              "              Unit Price  Quantity   Revenue  Shipping Fee\n",
              "Unit Price      1.000000 -0.032287  0.735948      0.756841\n",
              "Quantity       -0.032287  1.000000  0.288367      0.302907\n",
              "Revenue         0.735948  0.288367  1.000000      0.922426\n",
              "Shipping Fee    0.756841  0.302907  0.922426      1.000000"
            ],
            "text/html": [
              "\n",
              "  <div id=\"df-c4f9e67f-9d6f-4b04-b35d-c8df827d2949\">\n",
              "    <div class=\"colab-df-container\">\n",
              "      <div>\n",
              "<style scoped>\n",
              "    .dataframe tbody tr th:only-of-type {\n",
              "        vertical-align: middle;\n",
              "    }\n",
              "\n",
              "    .dataframe tbody tr th {\n",
              "        vertical-align: top;\n",
              "    }\n",
              "\n",
              "    .dataframe thead th {\n",
              "        text-align: right;\n",
              "    }\n",
              "</style>\n",
              "<table border=\"1\" class=\"dataframe\">\n",
              "  <thead>\n",
              "    <tr style=\"text-align: right;\">\n",
              "      <th></th>\n",
              "      <th>Unit Price</th>\n",
              "      <th>Quantity</th>\n",
              "      <th>Revenue</th>\n",
              "      <th>Shipping Fee</th>\n",
              "    </tr>\n",
              "  </thead>\n",
              "  <tbody>\n",
              "    <tr>\n",
              "      <th>Unit Price</th>\n",
              "      <td>1.000000</td>\n",
              "      <td>-0.032287</td>\n",
              "      <td>0.735948</td>\n",
              "      <td>0.756841</td>\n",
              "    </tr>\n",
              "    <tr>\n",
              "      <th>Quantity</th>\n",
              "      <td>-0.032287</td>\n",
              "      <td>1.000000</td>\n",
              "      <td>0.288367</td>\n",
              "      <td>0.302907</td>\n",
              "    </tr>\n",
              "    <tr>\n",
              "      <th>Revenue</th>\n",
              "      <td>0.735948</td>\n",
              "      <td>0.288367</td>\n",
              "      <td>1.000000</td>\n",
              "      <td>0.922426</td>\n",
              "    </tr>\n",
              "    <tr>\n",
              "      <th>Shipping Fee</th>\n",
              "      <td>0.756841</td>\n",
              "      <td>0.302907</td>\n",
              "      <td>0.922426</td>\n",
              "      <td>1.000000</td>\n",
              "    </tr>\n",
              "  </tbody>\n",
              "</table>\n",
              "</div>\n",
              "      <button class=\"colab-df-convert\" onclick=\"convertToInteractive('df-c4f9e67f-9d6f-4b04-b35d-c8df827d2949')\"\n",
              "              title=\"Convert this dataframe to an interactive table.\"\n",
              "              style=\"display:none;\">\n",
              "        \n",
              "  <svg xmlns=\"http://www.w3.org/2000/svg\" height=\"24px\"viewBox=\"0 0 24 24\"\n",
              "       width=\"24px\">\n",
              "    <path d=\"M0 0h24v24H0V0z\" fill=\"none\"/>\n",
              "    <path d=\"M18.56 5.44l.94 2.06.94-2.06 2.06-.94-2.06-.94-.94-2.06-.94 2.06-2.06.94zm-11 1L8.5 8.5l.94-2.06 2.06-.94-2.06-.94L8.5 2.5l-.94 2.06-2.06.94zm10 10l.94 2.06.94-2.06 2.06-.94-2.06-.94-.94-2.06-.94 2.06-2.06.94z\"/><path d=\"M17.41 7.96l-1.37-1.37c-.4-.4-.92-.59-1.43-.59-.52 0-1.04.2-1.43.59L10.3 9.45l-7.72 7.72c-.78.78-.78 2.05 0 2.83L4 21.41c.39.39.9.59 1.41.59.51 0 1.02-.2 1.41-.59l7.78-7.78 2.81-2.81c.8-.78.8-2.07 0-2.86zM5.41 20L4 18.59l7.72-7.72 1.47 1.35L5.41 20z\"/>\n",
              "  </svg>\n",
              "      </button>\n",
              "      \n",
              "  <style>\n",
              "    .colab-df-container {\n",
              "      display:flex;\n",
              "      flex-wrap:wrap;\n",
              "      gap: 12px;\n",
              "    }\n",
              "\n",
              "    .colab-df-convert {\n",
              "      background-color: #E8F0FE;\n",
              "      border: none;\n",
              "      border-radius: 50%;\n",
              "      cursor: pointer;\n",
              "      display: none;\n",
              "      fill: #1967D2;\n",
              "      height: 32px;\n",
              "      padding: 0 0 0 0;\n",
              "      width: 32px;\n",
              "    }\n",
              "\n",
              "    .colab-df-convert:hover {\n",
              "      background-color: #E2EBFA;\n",
              "      box-shadow: 0px 1px 2px rgba(60, 64, 67, 0.3), 0px 1px 3px 1px rgba(60, 64, 67, 0.15);\n",
              "      fill: #174EA6;\n",
              "    }\n",
              "\n",
              "    [theme=dark] .colab-df-convert {\n",
              "      background-color: #3B4455;\n",
              "      fill: #D2E3FC;\n",
              "    }\n",
              "\n",
              "    [theme=dark] .colab-df-convert:hover {\n",
              "      background-color: #434B5C;\n",
              "      box-shadow: 0px 1px 3px 1px rgba(0, 0, 0, 0.15);\n",
              "      filter: drop-shadow(0px 1px 2px rgba(0, 0, 0, 0.3));\n",
              "      fill: #FFFFFF;\n",
              "    }\n",
              "  </style>\n",
              "\n",
              "      <script>\n",
              "        const buttonEl =\n",
              "          document.querySelector('#df-c4f9e67f-9d6f-4b04-b35d-c8df827d2949 button.colab-df-convert');\n",
              "        buttonEl.style.display =\n",
              "          google.colab.kernel.accessAllowed ? 'block' : 'none';\n",
              "\n",
              "        async function convertToInteractive(key) {\n",
              "          const element = document.querySelector('#df-c4f9e67f-9d6f-4b04-b35d-c8df827d2949');\n",
              "          const dataTable =\n",
              "            await google.colab.kernel.invokeFunction('convertToInteractive',\n",
              "                                                     [key], {});\n",
              "          if (!dataTable) return;\n",
              "\n",
              "          const docLinkHtml = 'Like what you see? Visit the ' +\n",
              "            '<a target=\"_blank\" href=https://colab.research.google.com/notebooks/data_table.ipynb>data table notebook</a>'\n",
              "            + ' to learn more about interactive tables.';\n",
              "          element.innerHTML = '';\n",
              "          dataTable['output_type'] = 'display_data';\n",
              "          await google.colab.output.renderOutput(dataTable, element);\n",
              "          const docLink = document.createElement('div');\n",
              "          docLink.innerHTML = docLinkHtml;\n",
              "          element.appendChild(docLink);\n",
              "        }\n",
              "      </script>\n",
              "    </div>\n",
              "  </div>\n",
              "  "
            ]
          },
          "metadata": {},
          "execution_count": 18
        }
      ]
    },
    {
      "cell_type": "code",
      "source": [
        "num_col.plot(kind=\"scatter\", x= 'Unit Price', y='Revenue', fig_size=(4,4))    "
      ],
      "metadata": {
        "colab": {
          "base_uri": "https://localhost:8080/",
          "height": 563
        },
        "id": "qAw5BjP4t-lZ",
        "outputId": "1706e8eb-e3df-4c58-a25a-3a9919a47129"
      },
      "execution_count": null,
      "outputs": [
        {
          "output_type": "error",
          "ename": "AttributeError",
          "evalue": "ignored",
          "traceback": [
            "\u001b[0;31m---------------------------------------------------------------------------\u001b[0m",
            "\u001b[0;31mAttributeError\u001b[0m                            Traceback (most recent call last)",
            "\u001b[0;32m<ipython-input-22-7c219196e622>\u001b[0m in \u001b[0;36m<module>\u001b[0;34m\u001b[0m\n\u001b[0;32m----> 1\u001b[0;31m \u001b[0mnum_col\u001b[0m\u001b[0;34m.\u001b[0m\u001b[0mplot\u001b[0m\u001b[0;34m(\u001b[0m\u001b[0mkind\u001b[0m\u001b[0;34m=\u001b[0m\u001b[0;34m\"scatter\"\u001b[0m\u001b[0;34m,\u001b[0m \u001b[0mx\u001b[0m\u001b[0;34m=\u001b[0m \u001b[0;34m'Unit Price'\u001b[0m\u001b[0;34m,\u001b[0m \u001b[0my\u001b[0m\u001b[0;34m=\u001b[0m\u001b[0;34m'Revenue'\u001b[0m\u001b[0;34m,\u001b[0m \u001b[0mfig_size\u001b[0m\u001b[0;34m=\u001b[0m\u001b[0;34m(\u001b[0m\u001b[0;36m4\u001b[0m\u001b[0;34m,\u001b[0m\u001b[0;36m4\u001b[0m\u001b[0;34m)\u001b[0m\u001b[0;34m)\u001b[0m\u001b[0;34m\u001b[0m\u001b[0;34m\u001b[0m\u001b[0m\n\u001b[0m",
            "\u001b[0;32m/usr/local/lib/python3.7/dist-packages/pandas/plotting/_core.py\u001b[0m in \u001b[0;36m__call__\u001b[0;34m(self, *args, **kwargs)\u001b[0m\n\u001b[1;32m    915\u001b[0m         \u001b[0;32mif\u001b[0m \u001b[0mkind\u001b[0m \u001b[0;32min\u001b[0m \u001b[0mself\u001b[0m\u001b[0;34m.\u001b[0m\u001b[0m_dataframe_kinds\u001b[0m\u001b[0;34m:\u001b[0m\u001b[0;34m\u001b[0m\u001b[0;34m\u001b[0m\u001b[0m\n\u001b[1;32m    916\u001b[0m             \u001b[0;32mif\u001b[0m \u001b[0misinstance\u001b[0m\u001b[0;34m(\u001b[0m\u001b[0mdata\u001b[0m\u001b[0;34m,\u001b[0m \u001b[0mABCDataFrame\u001b[0m\u001b[0;34m)\u001b[0m\u001b[0;34m:\u001b[0m\u001b[0;34m\u001b[0m\u001b[0;34m\u001b[0m\u001b[0m\n\u001b[0;32m--> 917\u001b[0;31m                 \u001b[0;32mreturn\u001b[0m \u001b[0mplot_backend\u001b[0m\u001b[0;34m.\u001b[0m\u001b[0mplot\u001b[0m\u001b[0;34m(\u001b[0m\u001b[0mdata\u001b[0m\u001b[0;34m,\u001b[0m \u001b[0mx\u001b[0m\u001b[0;34m=\u001b[0m\u001b[0mx\u001b[0m\u001b[0;34m,\u001b[0m \u001b[0my\u001b[0m\u001b[0;34m=\u001b[0m\u001b[0my\u001b[0m\u001b[0;34m,\u001b[0m \u001b[0mkind\u001b[0m\u001b[0;34m=\u001b[0m\u001b[0mkind\u001b[0m\u001b[0;34m,\u001b[0m \u001b[0;34m**\u001b[0m\u001b[0mkwargs\u001b[0m\u001b[0;34m)\u001b[0m\u001b[0;34m\u001b[0m\u001b[0;34m\u001b[0m\u001b[0m\n\u001b[0m\u001b[1;32m    918\u001b[0m             \u001b[0;32melse\u001b[0m\u001b[0;34m:\u001b[0m\u001b[0;34m\u001b[0m\u001b[0;34m\u001b[0m\u001b[0m\n\u001b[1;32m    919\u001b[0m                 \u001b[0;32mraise\u001b[0m \u001b[0mValueError\u001b[0m\u001b[0;34m(\u001b[0m\u001b[0;34mf\"plot kind {kind} can only be used for data frames\"\u001b[0m\u001b[0;34m)\u001b[0m\u001b[0;34m\u001b[0m\u001b[0;34m\u001b[0m\u001b[0m\n",
            "\u001b[0;32m/usr/local/lib/python3.7/dist-packages/pandas/plotting/_matplotlib/__init__.py\u001b[0m in \u001b[0;36mplot\u001b[0;34m(data, kind, **kwargs)\u001b[0m\n\u001b[1;32m     69\u001b[0m             \u001b[0mkwargs\u001b[0m\u001b[0;34m[\u001b[0m\u001b[0;34m\"ax\"\u001b[0m\u001b[0;34m]\u001b[0m \u001b[0;34m=\u001b[0m \u001b[0mgetattr\u001b[0m\u001b[0;34m(\u001b[0m\u001b[0max\u001b[0m\u001b[0;34m,\u001b[0m \u001b[0;34m\"left_ax\"\u001b[0m\u001b[0;34m,\u001b[0m \u001b[0max\u001b[0m\u001b[0;34m)\u001b[0m\u001b[0;34m\u001b[0m\u001b[0;34m\u001b[0m\u001b[0m\n\u001b[1;32m     70\u001b[0m     \u001b[0mplot_obj\u001b[0m \u001b[0;34m=\u001b[0m \u001b[0mPLOT_CLASSES\u001b[0m\u001b[0;34m[\u001b[0m\u001b[0mkind\u001b[0m\u001b[0;34m]\u001b[0m\u001b[0;34m(\u001b[0m\u001b[0mdata\u001b[0m\u001b[0;34m,\u001b[0m \u001b[0;34m**\u001b[0m\u001b[0mkwargs\u001b[0m\u001b[0;34m)\u001b[0m\u001b[0;34m\u001b[0m\u001b[0;34m\u001b[0m\u001b[0m\n\u001b[0;32m---> 71\u001b[0;31m     \u001b[0mplot_obj\u001b[0m\u001b[0;34m.\u001b[0m\u001b[0mgenerate\u001b[0m\u001b[0;34m(\u001b[0m\u001b[0;34m)\u001b[0m\u001b[0;34m\u001b[0m\u001b[0;34m\u001b[0m\u001b[0m\n\u001b[0m\u001b[1;32m     72\u001b[0m     \u001b[0mplot_obj\u001b[0m\u001b[0;34m.\u001b[0m\u001b[0mdraw\u001b[0m\u001b[0;34m(\u001b[0m\u001b[0;34m)\u001b[0m\u001b[0;34m\u001b[0m\u001b[0;34m\u001b[0m\u001b[0m\n\u001b[1;32m     73\u001b[0m     \u001b[0;32mreturn\u001b[0m \u001b[0mplot_obj\u001b[0m\u001b[0;34m.\u001b[0m\u001b[0mresult\u001b[0m\u001b[0;34m\u001b[0m\u001b[0;34m\u001b[0m\u001b[0m\n",
            "\u001b[0;32m/usr/local/lib/python3.7/dist-packages/pandas/plotting/_matplotlib/core.py\u001b[0m in \u001b[0;36mgenerate\u001b[0;34m(self)\u001b[0m\n\u001b[1;32m    286\u001b[0m         \u001b[0mself\u001b[0m\u001b[0;34m.\u001b[0m\u001b[0m_compute_plot_data\u001b[0m\u001b[0;34m(\u001b[0m\u001b[0;34m)\u001b[0m\u001b[0;34m\u001b[0m\u001b[0;34m\u001b[0m\u001b[0m\n\u001b[1;32m    287\u001b[0m         \u001b[0mself\u001b[0m\u001b[0;34m.\u001b[0m\u001b[0m_setup_subplots\u001b[0m\u001b[0;34m(\u001b[0m\u001b[0;34m)\u001b[0m\u001b[0;34m\u001b[0m\u001b[0;34m\u001b[0m\u001b[0m\n\u001b[0;32m--> 288\u001b[0;31m         \u001b[0mself\u001b[0m\u001b[0;34m.\u001b[0m\u001b[0m_make_plot\u001b[0m\u001b[0;34m(\u001b[0m\u001b[0;34m)\u001b[0m\u001b[0;34m\u001b[0m\u001b[0;34m\u001b[0m\u001b[0m\n\u001b[0m\u001b[1;32m    289\u001b[0m         \u001b[0mself\u001b[0m\u001b[0;34m.\u001b[0m\u001b[0m_add_table\u001b[0m\u001b[0;34m(\u001b[0m\u001b[0;34m)\u001b[0m\u001b[0;34m\u001b[0m\u001b[0;34m\u001b[0m\u001b[0m\n\u001b[1;32m    290\u001b[0m         \u001b[0mself\u001b[0m\u001b[0;34m.\u001b[0m\u001b[0m_make_legend\u001b[0m\u001b[0;34m(\u001b[0m\u001b[0;34m)\u001b[0m\u001b[0;34m\u001b[0m\u001b[0;34m\u001b[0m\u001b[0m\n",
            "\u001b[0;32m/usr/local/lib/python3.7/dist-packages/pandas/plotting/_matplotlib/core.py\u001b[0m in \u001b[0;36m_make_plot\u001b[0;34m(self)\u001b[0m\n\u001b[1;32m   1075\u001b[0m             \u001b[0mcmap\u001b[0m\u001b[0;34m=\u001b[0m\u001b[0mcmap\u001b[0m\u001b[0;34m,\u001b[0m\u001b[0;34m\u001b[0m\u001b[0;34m\u001b[0m\u001b[0m\n\u001b[1;32m   1076\u001b[0m             \u001b[0mnorm\u001b[0m\u001b[0;34m=\u001b[0m\u001b[0mnorm\u001b[0m\u001b[0;34m,\u001b[0m\u001b[0;34m\u001b[0m\u001b[0;34m\u001b[0m\u001b[0m\n\u001b[0;32m-> 1077\u001b[0;31m             \u001b[0;34m**\u001b[0m\u001b[0mself\u001b[0m\u001b[0;34m.\u001b[0m\u001b[0mkwds\u001b[0m\u001b[0;34m,\u001b[0m\u001b[0;34m\u001b[0m\u001b[0;34m\u001b[0m\u001b[0m\n\u001b[0m\u001b[1;32m   1078\u001b[0m         )\n\u001b[1;32m   1079\u001b[0m         \u001b[0;32mif\u001b[0m \u001b[0mcb\u001b[0m\u001b[0;34m:\u001b[0m\u001b[0;34m\u001b[0m\u001b[0;34m\u001b[0m\u001b[0m\n",
            "\u001b[0;32m/usr/local/lib/python3.7/dist-packages/matplotlib/__init__.py\u001b[0m in \u001b[0;36minner\u001b[0;34m(ax, data, *args, **kwargs)\u001b[0m\n\u001b[1;32m   1563\u001b[0m     \u001b[0;32mdef\u001b[0m \u001b[0minner\u001b[0m\u001b[0;34m(\u001b[0m\u001b[0max\u001b[0m\u001b[0;34m,\u001b[0m \u001b[0;34m*\u001b[0m\u001b[0margs\u001b[0m\u001b[0;34m,\u001b[0m \u001b[0mdata\u001b[0m\u001b[0;34m=\u001b[0m\u001b[0;32mNone\u001b[0m\u001b[0;34m,\u001b[0m \u001b[0;34m**\u001b[0m\u001b[0mkwargs\u001b[0m\u001b[0;34m)\u001b[0m\u001b[0;34m:\u001b[0m\u001b[0;34m\u001b[0m\u001b[0;34m\u001b[0m\u001b[0m\n\u001b[1;32m   1564\u001b[0m         \u001b[0;32mif\u001b[0m \u001b[0mdata\u001b[0m \u001b[0;32mis\u001b[0m \u001b[0;32mNone\u001b[0m\u001b[0;34m:\u001b[0m\u001b[0;34m\u001b[0m\u001b[0;34m\u001b[0m\u001b[0m\n\u001b[0;32m-> 1565\u001b[0;31m             \u001b[0;32mreturn\u001b[0m \u001b[0mfunc\u001b[0m\u001b[0;34m(\u001b[0m\u001b[0max\u001b[0m\u001b[0;34m,\u001b[0m \u001b[0;34m*\u001b[0m\u001b[0mmap\u001b[0m\u001b[0;34m(\u001b[0m\u001b[0msanitize_sequence\u001b[0m\u001b[0;34m,\u001b[0m \u001b[0margs\u001b[0m\u001b[0;34m)\u001b[0m\u001b[0;34m,\u001b[0m \u001b[0;34m**\u001b[0m\u001b[0mkwargs\u001b[0m\u001b[0;34m)\u001b[0m\u001b[0;34m\u001b[0m\u001b[0;34m\u001b[0m\u001b[0m\n\u001b[0m\u001b[1;32m   1566\u001b[0m \u001b[0;34m\u001b[0m\u001b[0m\n\u001b[1;32m   1567\u001b[0m         \u001b[0mbound\u001b[0m \u001b[0;34m=\u001b[0m \u001b[0mnew_sig\u001b[0m\u001b[0;34m.\u001b[0m\u001b[0mbind\u001b[0m\u001b[0;34m(\u001b[0m\u001b[0max\u001b[0m\u001b[0;34m,\u001b[0m \u001b[0;34m*\u001b[0m\u001b[0margs\u001b[0m\u001b[0;34m,\u001b[0m \u001b[0;34m**\u001b[0m\u001b[0mkwargs\u001b[0m\u001b[0;34m)\u001b[0m\u001b[0;34m\u001b[0m\u001b[0;34m\u001b[0m\u001b[0m\n",
            "\u001b[0;32m/usr/local/lib/python3.7/dist-packages/matplotlib/cbook/deprecation.py\u001b[0m in \u001b[0;36mwrapper\u001b[0;34m(*args, **kwargs)\u001b[0m\n\u001b[1;32m    356\u001b[0m                 \u001b[0;34mf\"%(removal)s.  If any parameter follows {name!r}, they \"\u001b[0m\u001b[0;34m\u001b[0m\u001b[0;34m\u001b[0m\u001b[0m\n\u001b[1;32m    357\u001b[0m                 f\"should be pass as keyword, not positionally.\")\n\u001b[0;32m--> 358\u001b[0;31m         \u001b[0;32mreturn\u001b[0m \u001b[0mfunc\u001b[0m\u001b[0;34m(\u001b[0m\u001b[0;34m*\u001b[0m\u001b[0margs\u001b[0m\u001b[0;34m,\u001b[0m \u001b[0;34m**\u001b[0m\u001b[0mkwargs\u001b[0m\u001b[0;34m)\u001b[0m\u001b[0;34m\u001b[0m\u001b[0;34m\u001b[0m\u001b[0m\n\u001b[0m\u001b[1;32m    359\u001b[0m \u001b[0;34m\u001b[0m\u001b[0m\n\u001b[1;32m    360\u001b[0m     \u001b[0;32mreturn\u001b[0m \u001b[0mwrapper\u001b[0m\u001b[0;34m\u001b[0m\u001b[0;34m\u001b[0m\u001b[0m\n",
            "\u001b[0;32m/usr/local/lib/python3.7/dist-packages/matplotlib/axes/_axes.py\u001b[0m in \u001b[0;36mscatter\u001b[0;34m(self, x, y, s, c, marker, cmap, norm, vmin, vmax, alpha, linewidths, verts, edgecolors, plotnonfinite, **kwargs)\u001b[0m\n\u001b[1;32m   4441\u001b[0m                 )\n\u001b[1;32m   4442\u001b[0m         \u001b[0mcollection\u001b[0m\u001b[0;34m.\u001b[0m\u001b[0mset_transform\u001b[0m\u001b[0;34m(\u001b[0m\u001b[0mmtransforms\u001b[0m\u001b[0;34m.\u001b[0m\u001b[0mIdentityTransform\u001b[0m\u001b[0;34m(\u001b[0m\u001b[0;34m)\u001b[0m\u001b[0;34m)\u001b[0m\u001b[0;34m\u001b[0m\u001b[0;34m\u001b[0m\u001b[0m\n\u001b[0;32m-> 4443\u001b[0;31m         \u001b[0mcollection\u001b[0m\u001b[0;34m.\u001b[0m\u001b[0mupdate\u001b[0m\u001b[0;34m(\u001b[0m\u001b[0mkwargs\u001b[0m\u001b[0;34m)\u001b[0m\u001b[0;34m\u001b[0m\u001b[0;34m\u001b[0m\u001b[0m\n\u001b[0m\u001b[1;32m   4444\u001b[0m \u001b[0;34m\u001b[0m\u001b[0m\n\u001b[1;32m   4445\u001b[0m         \u001b[0;32mif\u001b[0m \u001b[0mcolors\u001b[0m \u001b[0;32mis\u001b[0m \u001b[0;32mNone\u001b[0m\u001b[0;34m:\u001b[0m\u001b[0;34m\u001b[0m\u001b[0;34m\u001b[0m\u001b[0m\n",
            "\u001b[0;32m/usr/local/lib/python3.7/dist-packages/matplotlib/artist.py\u001b[0m in \u001b[0;36mupdate\u001b[0;34m(self, props)\u001b[0m\n\u001b[1;32m   1004\u001b[0m \u001b[0;34m\u001b[0m\u001b[0m\n\u001b[1;32m   1005\u001b[0m         \u001b[0;32mwith\u001b[0m \u001b[0mcbook\u001b[0m\u001b[0;34m.\u001b[0m\u001b[0m_setattr_cm\u001b[0m\u001b[0;34m(\u001b[0m\u001b[0mself\u001b[0m\u001b[0;34m,\u001b[0m \u001b[0meventson\u001b[0m\u001b[0;34m=\u001b[0m\u001b[0;32mFalse\u001b[0m\u001b[0;34m)\u001b[0m\u001b[0;34m:\u001b[0m\u001b[0;34m\u001b[0m\u001b[0;34m\u001b[0m\u001b[0m\n\u001b[0;32m-> 1006\u001b[0;31m             \u001b[0mret\u001b[0m \u001b[0;34m=\u001b[0m \u001b[0;34m[\u001b[0m\u001b[0m_update_property\u001b[0m\u001b[0;34m(\u001b[0m\u001b[0mself\u001b[0m\u001b[0;34m,\u001b[0m \u001b[0mk\u001b[0m\u001b[0;34m,\u001b[0m \u001b[0mv\u001b[0m\u001b[0;34m)\u001b[0m \u001b[0;32mfor\u001b[0m \u001b[0mk\u001b[0m\u001b[0;34m,\u001b[0m \u001b[0mv\u001b[0m \u001b[0;32min\u001b[0m \u001b[0mprops\u001b[0m\u001b[0;34m.\u001b[0m\u001b[0mitems\u001b[0m\u001b[0;34m(\u001b[0m\u001b[0;34m)\u001b[0m\u001b[0;34m]\u001b[0m\u001b[0;34m\u001b[0m\u001b[0;34m\u001b[0m\u001b[0m\n\u001b[0m\u001b[1;32m   1007\u001b[0m \u001b[0;34m\u001b[0m\u001b[0m\n\u001b[1;32m   1008\u001b[0m         \u001b[0;32mif\u001b[0m \u001b[0mlen\u001b[0m\u001b[0;34m(\u001b[0m\u001b[0mret\u001b[0m\u001b[0;34m)\u001b[0m\u001b[0;34m:\u001b[0m\u001b[0;34m\u001b[0m\u001b[0;34m\u001b[0m\u001b[0m\n",
            "\u001b[0;32m/usr/local/lib/python3.7/dist-packages/matplotlib/artist.py\u001b[0m in \u001b[0;36m<listcomp>\u001b[0;34m(.0)\u001b[0m\n\u001b[1;32m   1004\u001b[0m \u001b[0;34m\u001b[0m\u001b[0m\n\u001b[1;32m   1005\u001b[0m         \u001b[0;32mwith\u001b[0m \u001b[0mcbook\u001b[0m\u001b[0;34m.\u001b[0m\u001b[0m_setattr_cm\u001b[0m\u001b[0;34m(\u001b[0m\u001b[0mself\u001b[0m\u001b[0;34m,\u001b[0m \u001b[0meventson\u001b[0m\u001b[0;34m=\u001b[0m\u001b[0;32mFalse\u001b[0m\u001b[0;34m)\u001b[0m\u001b[0;34m:\u001b[0m\u001b[0;34m\u001b[0m\u001b[0;34m\u001b[0m\u001b[0m\n\u001b[0;32m-> 1006\u001b[0;31m             \u001b[0mret\u001b[0m \u001b[0;34m=\u001b[0m \u001b[0;34m[\u001b[0m\u001b[0m_update_property\u001b[0m\u001b[0;34m(\u001b[0m\u001b[0mself\u001b[0m\u001b[0;34m,\u001b[0m \u001b[0mk\u001b[0m\u001b[0;34m,\u001b[0m \u001b[0mv\u001b[0m\u001b[0;34m)\u001b[0m \u001b[0;32mfor\u001b[0m \u001b[0mk\u001b[0m\u001b[0;34m,\u001b[0m \u001b[0mv\u001b[0m \u001b[0;32min\u001b[0m \u001b[0mprops\u001b[0m\u001b[0;34m.\u001b[0m\u001b[0mitems\u001b[0m\u001b[0;34m(\u001b[0m\u001b[0;34m)\u001b[0m\u001b[0;34m]\u001b[0m\u001b[0;34m\u001b[0m\u001b[0;34m\u001b[0m\u001b[0m\n\u001b[0m\u001b[1;32m   1007\u001b[0m \u001b[0;34m\u001b[0m\u001b[0m\n\u001b[1;32m   1008\u001b[0m         \u001b[0;32mif\u001b[0m \u001b[0mlen\u001b[0m\u001b[0;34m(\u001b[0m\u001b[0mret\u001b[0m\u001b[0;34m)\u001b[0m\u001b[0;34m:\u001b[0m\u001b[0;34m\u001b[0m\u001b[0;34m\u001b[0m\u001b[0m\n",
            "\u001b[0;32m/usr/local/lib/python3.7/dist-packages/matplotlib/artist.py\u001b[0m in \u001b[0;36m_update_property\u001b[0;34m(self, k, v)\u001b[0m\n\u001b[1;32m   1000\u001b[0m                 \u001b[0;32mif\u001b[0m \u001b[0;32mnot\u001b[0m \u001b[0mcallable\u001b[0m\u001b[0;34m(\u001b[0m\u001b[0mfunc\u001b[0m\u001b[0;34m)\u001b[0m\u001b[0;34m:\u001b[0m\u001b[0;34m\u001b[0m\u001b[0;34m\u001b[0m\u001b[0m\n\u001b[1;32m   1001\u001b[0m                     raise AttributeError('{!r} object has no property {!r}'\n\u001b[0;32m-> 1002\u001b[0;31m                                          .format(type(self).__name__, k))\n\u001b[0m\u001b[1;32m   1003\u001b[0m                 \u001b[0;32mreturn\u001b[0m \u001b[0mfunc\u001b[0m\u001b[0;34m(\u001b[0m\u001b[0mv\u001b[0m\u001b[0;34m)\u001b[0m\u001b[0;34m\u001b[0m\u001b[0;34m\u001b[0m\u001b[0m\n\u001b[1;32m   1004\u001b[0m \u001b[0;34m\u001b[0m\u001b[0m\n",
            "\u001b[0;31mAttributeError\u001b[0m: 'PathCollection' object has no property 'fig_size'"
          ]
        },
        {
          "output_type": "display_data",
          "data": {
            "text/plain": [
              "<Figure size 432x288 with 1 Axes>"
            ],
            "image/png": "[encoded data removed]"
          },
          "metadata": {
            "needs_background": "light"
          }
        }
      ]
    },
    {
      "cell_type": "code",
      "source": [
        "data[\"totalRevenue\"]= data[\"Revenue\"]*data[\"Quantity\"]"
      ],
      "metadata": {
        "id": "skQd7hrLvTlc"
      },
      "execution_count": null,
      "outputs": []
    },
    {
      "cell_type": "code",
      "source": [
        "data[\"totalRevenue\"].plot(kind='hist', figsize=(12,5))"
      ],
      "metadata": {
        "colab": {
          "base_uri": "https://localhost:8080/",
          "height": 337
        },
        "id": "8C_6D1akvu97",
        "outputId": "cd5f6619-1e46-456b-ee76-60127ce9f808"
      },
      "execution_count": null,
      "outputs": [
        {
          "output_type": "execute_result",
          "data": {
            "text/plain": [
              "<matplotlib.axes._subplots.AxesSubplot at 0x7fddadb93110>"
            ]
          },
          "metadata": {},
          "execution_count": 24
        },
        {
          "output_type": "display_data",
          "data": {
            "text/plain": [
              "<Figure size 864x360 with 1 Axes>"
            ],
            "image/png": "[encoded data removed]"
          },
          "metadata": {
            "needs_background": "light"
          }
        }
      ]
    },
    {
      "cell_type": "code",
      "source": [
        "data[\"Unit Price\"].head()"
      ],
      "metadata": {
        "colab": {
          "base_uri": "https://localhost:8080/"
        },
        "id": "uP4xH6OCwNFT",
        "outputId": "698acf07-19d4-4520-d1a4-f7b9233bd208"
      },
      "execution_count": null,
      "outputs": [
        {
          "output_type": "execute_result",
          "data": {
            "text/plain": [
              "0    14.0\n",
              "1     3.5\n",
              "2    30.0\n",
              "3    53.0\n",
              "4     3.5\n",
              "Name: Unit Price, dtype: float64"
            ]
          },
          "metadata": {},
          "execution_count": 25
        }
      ]
    },
    {
      "cell_type": "code",
      "source": [
        "data[\"Unit Price\"] *=2\n",
        "data[\"Unit Price\"].head()"
      ],
      "metadata": {
        "colab": {
          "base_uri": "https://localhost:8080/"
        },
        "id": "wnUK2NlhwX1I",
        "outputId": "840c6629-83b6-4d0d-a4c4-e11eb3aedb36"
      },
      "execution_count": null,
      "outputs": [
        {
          "output_type": "execute_result",
          "data": {
            "text/plain": [
              "0     56.0\n",
              "1     14.0\n",
              "2    120.0\n",
              "3    212.0\n",
              "4     14.0\n",
              "Name: Unit Price, dtype: float64"
            ]
          },
          "metadata": {},
          "execution_count": 27
        }
      ]
    },
    {
      "cell_type": "code",
      "source": [
        "data.loc[data['City']=='New York']"
      ],
      "metadata": {
        "colab": {
          "base_uri": "https://localhost:8080/",
          "height": 901
        },
        "id": "OAR2q4hVwiG9",
        "outputId": "74520138-7101-415b-fca0-ca0365f53199"
      },
      "execution_count": null,
      "outputs": [
        {
          "output_type": "execute_result",
          "data": {
            "text/plain": [
              "    Order ID Order Date  Customer ID Customer Name         Address      City  \\\n",
              "2       1370 2014-12-04            4     Company D  123 4th Street  New York   \n",
              "3       1371 2014-12-04            4     Company D  123 4th Street  New York   \n",
              "4       1372 2014-12-04            4     Company D  123 4th Street  New York   \n",
              "8       1376 2014-12-04            4     Company D  123 4th Street  New York   \n",
              "38      1406 2014-12-04            4     Company D  123 4th Street  New York   \n",
              "39      1407 2014-12-04            4     Company D  123 4th Street  New York   \n",
              "42      1410 2014-12-04            4     Company D  123 4th Street  New York   \n",
              "63      1431 2014-12-04            4     Company D  123 4th Street  New York   \n",
              "67      1435 2015-01-04            4     Company D  123 4th Street  New York   \n",
              "68      1436 2015-01-04            4     Company D  123 4th Street  New York   \n",
              "69      1437 2015-01-04            4     Company D  123 4th Street  New York   \n",
              "73      1441 2015-01-04            4     Company D  123 4th Street  New York   \n",
              "\n",
              "   State  ZIP/Postal Code Country/Region     Salesperson  ...  \\\n",
              "2     NY            99999            USA  Andrew Cencini  ...   \n",
              "3     NY            99999            USA  Andrew Cencini  ...   \n",
              "4     NY            99999            USA  Andrew Cencini  ...   \n",
              "8     NY            99999            USA  Andrew Cencini  ...   \n",
              "38    NY            99999            USA  Andrew Cencini  ...   \n",
              "39    NY            99999            USA  Andrew Cencini  ...   \n",
              "42    NY            99999            USA  Andrew Cencini  ...   \n",
              "63    NY            99999            USA  Andrew Cencini  ...   \n",
              "67    NY            99999            USA  Andrew Cencini  ...   \n",
              "68    NY            99999            USA  Andrew Cencini  ...   \n",
              "69    NY            99999            USA  Andrew Cencini  ...   \n",
              "73    NY            99999            USA  Andrew Cencini  ...   \n",
              "\n",
              "   Ship ZIP/Postal Code Ship Country/Region Payment Type  \\\n",
              "2                 99999                 USA  Credit Card   \n",
              "3                 99999                 USA  Credit Card   \n",
              "4                 99999                 USA  Credit Card   \n",
              "8                 99999                 USA        Check   \n",
              "38                99999                 USA  Credit Card   \n",
              "39                99999                 USA  Credit Card   \n",
              "42                99999                 USA        Check   \n",
              "63                99999                 USA          NaN   \n",
              "67                99999                 USA  Credit Card   \n",
              "68                99999                 USA  Credit Card   \n",
              "69                99999                 USA  Credit Card   \n",
              "73                99999                 USA        Check   \n",
              "\n",
              "              Product Name             Category Unit Price Quantity  Revenue  \\\n",
              "2              Dried Pears   Dried Fruit & Nuts      120.0     81.0   2430.0   \n",
              "3             Dried Apples   Dried Fruit & Nuts      212.0     83.0   4399.0   \n",
              "4              Dried Plums   Dried Fruit & Nuts       14.0     75.0    262.5   \n",
              "8   Chocolate Biscuits Mix  Baked Goods & Mixes       36.8     97.0    892.4   \n",
              "38               Marmalade      Jams, Preserves      324.0     62.0   1377.0   \n",
              "39         Long Grain Rice               Grains       28.0     91.0    196.0   \n",
              "42                     NaN         Shipping Fee        NaN      NaN      0.0   \n",
              "63                 Gnocchi                Pasta      152.0     33.0   2812.0   \n",
              "67             Dried Pears   Dried Fruit & Nuts      120.0     69.0   2070.0   \n",
              "68            Dried Apples   Dried Fruit & Nuts      212.0     89.0   4717.0   \n",
              "69             Dried Plums   Dried Fruit & Nuts       14.0     11.0     38.5   \n",
              "73  Chocolate Biscuits Mix  Baked Goods & Mixes       36.8     88.0    809.6   \n",
              "\n",
              "   Shipping Fee totalRevenue  \n",
              "2      255.1500     196830.0  \n",
              "3      461.8950     365117.0  \n",
              "4       26.2500      19687.5  \n",
              "8       93.7020      86562.8  \n",
              "38     117.9360      85374.0  \n",
              "39      13.7200      17836.0  \n",
              "42       9.0000          NaN  \n",
              "63     175.0280      92796.0  \n",
              "67     198.7200     142830.0  \n",
              "68     448.1150     419813.0  \n",
              "69       3.7345        423.5  \n",
              "73      79.3408      71244.8  \n",
              "\n",
              "[12 rows x 27 columns]"
            ],
            "text/html": [
              "\n",
              "  <div id=\"df-4cf819a9-e0d7-4a3a-8532-16d9363927f5\">\n",
              "    <div class=\"colab-df-container\">\n",
              "      <div>\n",
              "<style scoped>\n",
              "    .dataframe tbody tr th:only-of-type {\n",
              "        vertical-align: middle;\n",
              "    }\n",
              "\n",
              "    .dataframe tbody tr th {\n",
              "        vertical-align: top;\n",
              "    }\n",
              "\n",
              "    .dataframe thead th {\n",
              "        text-align: right;\n",
              "    }\n",
              "</style>\n",
              "<table border=\"1\" class=\"dataframe\">\n",
              "  <thead>\n",
              "    <tr style=\"text-align: right;\">\n",
              "      <th></th>\n",
              "      <th>Order ID</th>\n",
              "      <th>Order Date</th>\n",
              "      <th>Customer ID</th>\n",
              "      <th>Customer Name</th>\n",
              "      <th>Address</th>\n",
              "      <th>City</th>\n",
              "      <th>State</th>\n",
              "      <th>ZIP/Postal Code</th>\n",
              "      <th>Country/Region</th>\n",
              "      <th>Salesperson</th>\n",
              "      <th>...</th>\n",
              "      <th>Ship ZIP/Postal Code</th>\n",
              "      <th>Ship Country/Region</th>\n",
              "      <th>Payment Type</th>\n",
              "      <th>Product Name</th>\n",
              "      <th>Category</th>\n",
              "      <th>Unit Price</th>\n",
              "      <th>Quantity</th>\n",
              "      <th>Revenue</th>\n",
              "      <th>Shipping Fee</th>\n",
              "      <th>totalRevenue</th>\n",
              "    </tr>\n",
              "  </thead>\n",
              "  <tbody>\n",
              "    <tr>\n",
              "      <th>2</th>\n",
              "      <td>1370</td>\n",
              "      <td>2014-12-04</td>\n",
              "      <td>4</td>\n",
              "      <td>Company D</td>\n",
              "      <td>123 4th Street</td>\n",
              "      <td>New York</td>\n",
              "      <td>NY</td>\n",
              "      <td>99999</td>\n",
              "      <td>USA</td>\n",
              "      <td>Andrew Cencini</td>\n",
              "      <td>...</td>\n",
              "      <td>99999</td>\n",
              "      <td>USA</td>\n",
              "      <td>Credit Card</td>\n",
              "      <td>Dried Pears</td>\n",
              "      <td>Dried Fruit &amp; Nuts</td>\n",
              "      <td>120.0</td>\n",
              "      <td>81.0</td>\n",
              "      <td>2430.0</td>\n",
              "      <td>255.1500</td>\n",
              "      <td>196830.0</td>\n",
              "    </tr>\n",
              "    <tr>\n",
              "      <th>3</th>\n",
              "      <td>1371</td>\n",
              "      <td>2014-12-04</td>\n",
              "      <td>4</td>\n",
              "      <td>Company D</td>\n",
              "      <td>123 4th Street</td>\n",
              "      <td>New York</td>\n",
              "      <td>NY</td>\n",
              "      <td>99999</td>\n",
              "      <td>USA</td>\n",
              "      <td>Andrew Cencini</td>\n",
              "      <td>...</td>\n",
              "      <td>99999</td>\n",
              "      <td>USA</td>\n",
              "      <td>Credit Card</td>\n",
              "      <td>Dried Apples</td>\n",
              "      <td>Dried Fruit &amp; Nuts</td>\n",
              "      <td>212.0</td>\n",
              "      <td>83.0</td>\n",
              "      <td>4399.0</td>\n",
              "      <td>461.8950</td>\n",
              "      <td>365117.0</td>\n",
              "    </tr>\n",
              "    <tr>\n",
              "      <th>4</th>\n",
              "      <td>1372</td>\n",
              "      <td>2014-12-04</td>\n",
              "      <td>4</td>\n",
              "      <td>Company D</td>\n",
              "      <td>123 4th Street</td>\n",
              "      <td>New York</td>\n",
              "      <td>NY</td>\n",
              "      <td>99999</td>\n",
              "      <td>USA</td>\n",
              "      <td>Andrew Cencini</td>\n",
              "      <td>...</td>\n",
              "      <td>99999</td>\n",
              "      <td>USA</td>\n",
              "      <td>Credit Card</td>\n",
              "      <td>Dried Plums</td>\n",
              "      <td>Dried Fruit &amp; Nuts</td>\n",
              "      <td>14.0</td>\n",
              "      <td>75.0</td>\n",
              "      <td>262.5</td>\n",
              "      <td>26.2500</td>\n",
              "      <td>19687.5</td>\n",
              "    </tr>\n",
              "    <tr>\n",
              "      <th>8</th>\n",
              "      <td>1376</td>\n",
              "      <td>2014-12-04</td>\n",
              "      <td>4</td>\n",
              "      <td>Company D</td>\n",
              "      <td>123 4th Street</td>\n",
              "      <td>New York</td>\n",
              "      <td>NY</td>\n",
              "      <td>99999</td>\n",
              "      <td>USA</td>\n",
              "      <td>Andrew Cencini</td>\n",
              "      <td>...</td>\n",
              "      <td>99999</td>\n",
              "      <td>USA</td>\n",
              "      <td>Check</td>\n",
              "      <td>Chocolate Biscuits Mix</td>\n",
              "      <td>Baked Goods &amp; Mixes</td>\n",
              "      <td>36.8</td>\n",
              "      <td>97.0</td>\n",
              "      <td>892.4</td>\n",
              "      <td>93.7020</td>\n",
              "      <td>86562.8</td>\n",
              "    </tr>\n",
              "    <tr>\n",
              "      <th>38</th>\n",
              "      <td>1406</td>\n",
              "      <td>2014-12-04</td>\n",
              "      <td>4</td>\n",
              "      <td>Company D</td>\n",
              "      <td>123 4th Street</td>\n",
              "      <td>New York</td>\n",
              "      <td>NY</td>\n",
              "      <td>99999</td>\n",
              "      <td>USA</td>\n",
              "      <td>Andrew Cencini</td>\n",
              "      <td>...</td>\n",
              "      <td>99999</td>\n",
              "      <td>USA</td>\n",
              "      <td>Credit Card</td>\n",
              "      <td>Marmalade</td>\n",
              "      <td>Jams, Preserves</td>\n",
              "      <td>324.0</td>\n",
              "      <td>62.0</td>\n",
              "      <td>1377.0</td>\n",
              "      <td>117.9360</td>\n",
              "      <td>85374.0</td>\n",
              "    </tr>\n",
              "    <tr>\n",
              "      <th>39</th>\n",
              "      <td>1407</td>\n",
              "      <td>2014-12-04</td>\n",
              "      <td>4</td>\n",
              "      <td>Company D</td>\n",
              "      <td>123 4th Street</td>\n",
              "      <td>New York</td>\n",
              "      <td>NY</td>\n",
              "      <td>99999</td>\n",
              "      <td>USA</td>\n",
              "      <td>Andrew Cencini</td>\n",
              "      <td>...</td>\n",
              "      <td>99999</td>\n",
              "      <td>USA</td>\n",
              "      <td>Credit Card</td>\n",
              "      <td>Long Grain Rice</td>\n",
              "      <td>Grains</td>\n",
              "      <td>28.0</td>\n",
              "      <td>91.0</td>\n",
              "      <td>196.0</td>\n",
              "      <td>13.7200</td>\n",
              "      <td>17836.0</td>\n",
              "    </tr>\n",
              "    <tr>\n",
              "      <th>42</th>\n",
              "      <td>1410</td>\n",
              "      <td>2014-12-04</td>\n",
              "      <td>4</td>\n",
              "      <td>Company D</td>\n",
              "      <td>123 4th Street</td>\n",
              "      <td>New York</td>\n",
              "      <td>NY</td>\n",
              "      <td>99999</td>\n",
              "      <td>USA</td>\n",
              "      <td>Andrew Cencini</td>\n",
              "      <td>...</td>\n",
              "      <td>99999</td>\n",
              "      <td>USA</td>\n",
              "      <td>Check</td>\n",
              "      <td>NaN</td>\n",
              "      <td>Shipping Fee</td>\n",
              "      <td>NaN</td>\n",
              "      <td>NaN</td>\n",
              "      <td>0.0</td>\n",
              "      <td>9.0000</td>\n",
              "      <td>NaN</td>\n",
              "    </tr>\n",
              "    <tr>\n",
              "      <th>63</th>\n",
              "      <td>1431</td>\n",
              "      <td>2014-12-04</td>\n",
              "      <td>4</td>\n",
              "      <td>Company D</td>\n",
              "      <td>123 4th Street</td>\n",
              "      <td>New York</td>\n",
              "      <td>NY</td>\n",
              "      <td>99999</td>\n",
              "      <td>USA</td>\n",
              "      <td>Andrew Cencini</td>\n",
              "      <td>...</td>\n",
              "      <td>99999</td>\n",
              "      <td>USA</td>\n",
              "      <td>NaN</td>\n",
              "      <td>Gnocchi</td>\n",
              "      <td>Pasta</td>\n",
              "      <td>152.0</td>\n",
              "      <td>33.0</td>\n",
              "      <td>2812.0</td>\n",
              "      <td>175.0280</td>\n",
              "      <td>92796.0</td>\n",
              "    </tr>\n",
              "    <tr>\n",
              "      <th>67</th>\n",
              "      <td>1435</td>\n",
              "      <td>2015-01-04</td>\n",
              "      <td>4</td>\n",
              "      <td>Company D</td>\n",
              "      <td>123 4th Street</td>\n",
              "      <td>New York</td>\n",
              "      <td>NY</td>\n",
              "      <td>99999</td>\n",
              "      <td>USA</td>\n",
              "      <td>Andrew Cencini</td>\n",
              "      <td>...</td>\n",
              "      <td>99999</td>\n",
              "      <td>USA</td>\n",
              "      <td>Credit Card</td>\n",
              "      <td>Dried Pears</td>\n",
              "      <td>Dried Fruit &amp; Nuts</td>\n",
              "      <td>120.0</td>\n",
              "      <td>69.0</td>\n",
              "      <td>2070.0</td>\n",
              "      <td>198.7200</td>\n",
              "      <td>142830.0</td>\n",
              "    </tr>\n",
              "    <tr>\n",
              "      <th>68</th>\n",
              "      <td>1436</td>\n",
              "      <td>2015-01-04</td>\n",
              "      <td>4</td>\n",
              "      <td>Company D</td>\n",
              "      <td>123 4th Street</td>\n",
              "      <td>New York</td>\n",
              "      <td>NY</td>\n",
              "      <td>99999</td>\n",
              "      <td>USA</td>\n",
              "      <td>Andrew Cencini</td>\n",
              "      <td>...</td>\n",
              "      <td>99999</td>\n",
              "      <td>USA</td>\n",
              "      <td>Credit Card</td>\n",
              "      <td>Dried Apples</td>\n",
              "      <td>Dried Fruit &amp; Nuts</td>\n",
              "      <td>212.0</td>\n",
              "      <td>89.0</td>\n",
              "      <td>4717.0</td>\n",
              "      <td>448.1150</td>\n",
              "      <td>419813.0</td>\n",
              "    </tr>\n",
              "    <tr>\n",
              "      <th>69</th>\n",
              "      <td>1437</td>\n",
              "      <td>2015-01-04</td>\n",
              "      <td>4</td>\n",
              "      <td>Company D</td>\n",
              "      <td>123 4th Street</td>\n",
              "      <td>New York</td>\n",
              "      <td>NY</td>\n",
              "      <td>99999</td>\n",
              "      <td>USA</td>\n",
              "      <td>Andrew Cencini</td>\n",
              "      <td>...</td>\n",
              "      <td>99999</td>\n",
              "      <td>USA</td>\n",
              "      <td>Credit Card</td>\n",
              "      <td>Dried Plums</td>\n",
              "      <td>Dried Fruit &amp; Nuts</td>\n",
              "      <td>14.0</td>\n",
              "      <td>11.0</td>\n",
              "      <td>38.5</td>\n",
              "      <td>3.7345</td>\n",
              "      <td>423.5</td>\n",
              "    </tr>\n",
              "    <tr>\n",
              "      <th>73</th>\n",
              "      <td>1441</td>\n",
              "      <td>2015-01-04</td>\n",
              "      <td>4</td>\n",
              "      <td>Company D</td>\n",
              "      <td>123 4th Street</td>\n",
              "      <td>New York</td>\n",
              "      <td>NY</td>\n",
              "      <td>99999</td>\n",
              "      <td>USA</td>\n",
              "      <td>Andrew Cencini</td>\n",
              "      <td>...</td>\n",
              "      <td>99999</td>\n",
              "      <td>USA</td>\n",
              "      <td>Check</td>\n",
              "      <td>Chocolate Biscuits Mix</td>\n",
              "      <td>Baked Goods &amp; Mixes</td>\n",
              "      <td>36.8</td>\n",
              "      <td>88.0</td>\n",
              "      <td>809.6</td>\n",
              "      <td>79.3408</td>\n",
              "      <td>71244.8</td>\n",
              "    </tr>\n",
              "  </tbody>\n",
              "</table>\n",
              "<p>12 rows × 27 columns</p>\n",
              "</div>\n",
              "      <button class=\"colab-df-convert\" onclick=\"convertToInteractive('df-4cf819a9-e0d7-4a3a-8532-16d9363927f5')\"\n",
              "              title=\"Convert this dataframe to an interactive table.\"\n",
              "              style=\"display:none;\">\n",
              "        \n",
              "  <svg xmlns=\"http://www.w3.org/2000/svg\" height=\"24px\"viewBox=\"0 0 24 24\"\n",
              "       width=\"24px\">\n",
              "    <path d=\"M0 0h24v24H0V0z\" fill=\"none\"/>\n",
              "    <path d=\"M18.56 5.44l.94 2.06.94-2.06 2.06-.94-2.06-.94-.94-2.06-.94 2.06-2.06.94zm-11 1L8.5 8.5l.94-2.06 2.06-.94-2.06-.94L8.5 2.5l-.94 2.06-2.06.94zm10 10l.94 2.06.94-2.06 2.06-.94-2.06-.94-.94-2.06-.94 2.06-2.06.94z\"/><path d=\"M17.41 7.96l-1.37-1.37c-.4-.4-.92-.59-1.43-.59-.52 0-1.04.2-1.43.59L10.3 9.45l-7.72 7.72c-.78.78-.78 2.05 0 2.83L4 21.41c.39.39.9.59 1.41.59.51 0 1.02-.2 1.41-.59l7.78-7.78 2.81-2.81c.8-.78.8-2.07 0-2.86zM5.41 20L4 18.59l7.72-7.72 1.47 1.35L5.41 20z\"/>\n",
              "  </svg>\n",
              "      </button>\n",
              "      \n",
              "  <style>\n",
              "    .colab-df-container {\n",
              "      display:flex;\n",
              "      flex-wrap:wrap;\n",
              "      gap: 12px;\n",
              "    }\n",
              "\n",
              "    .colab-df-convert {\n",
              "      background-color: #E8F0FE;\n",
              "      border: none;\n",
              "      border-radius: 50%;\n",
              "      cursor: pointer;\n",
              "      display: none;\n",
              "      fill: #1967D2;\n",
              "      height: 32px;\n",
              "      padding: 0 0 0 0;\n",
              "      width: 32px;\n",
              "    }\n",
              "\n",
              "    .colab-df-convert:hover {\n",
              "      background-color: #E2EBFA;\n",
              "      box-shadow: 0px 1px 2px rgba(60, 64, 67, 0.3), 0px 1px 3px 1px rgba(60, 64, 67, 0.15);\n",
              "      fill: #174EA6;\n",
              "    }\n",
              "\n",
              "    [theme=dark] .colab-df-convert {\n",
              "      background-color: #3B4455;\n",
              "      fill: #D2E3FC;\n",
              "    }\n",
              "\n",
              "    [theme=dark] .colab-df-convert:hover {\n",
              "      background-color: #434B5C;\n",
              "      box-shadow: 0px 1px 3px 1px rgba(0, 0, 0, 0.15);\n",
              "      filter: drop-shadow(0px 1px 2px rgba(0, 0, 0, 0.3));\n",
              "      fill: #FFFFFF;\n",
              "    }\n",
              "  </style>\n",
              "\n",
              "      <script>\n",
              "        const buttonEl =\n",
              "          document.querySelector('#df-4cf819a9-e0d7-4a3a-8532-16d9363927f5 button.colab-df-convert');\n",
              "        buttonEl.style.display =\n",
              "          google.colab.kernel.accessAllowed ? 'block' : 'none';\n",
              "\n",
              "        async function convertToInteractive(key) {\n",
              "          const element = document.querySelector('#df-4cf819a9-e0d7-4a3a-8532-16d9363927f5');\n",
              "          const dataTable =\n",
              "            await google.colab.kernel.invokeFunction('convertToInteractive',\n",
              "                                                     [key], {});\n",
              "          if (!dataTable) return;\n",
              "\n",
              "          const docLinkHtml = 'Like what you see? Visit the ' +\n",
              "            '<a target=\"_blank\" href=https://colab.research.google.com/notebooks/data_table.ipynb>data table notebook</a>'\n",
              "            + ' to learn more about interactive tables.';\n",
              "          element.innerHTML = '';\n",
              "          dataTable['output_type'] = 'display_data';\n",
              "          await google.colab.output.renderOutput(dataTable, element);\n",
              "          const docLink = document.createElement('div');\n",
              "          docLink.innerHTML = docLinkHtml;\n",
              "          element.appendChild(docLink);\n",
              "        }\n",
              "      </script>\n",
              "    </div>\n",
              "  </div>\n",
              "  "
            ]
          },
          "metadata": {},
          "execution_count": 28
        }
      ]
    },
    {
      "cell_type": "code",
      "source": [
        "data.loc[data['City']=='New York', 'Revenue'].mean()"
      ],
      "metadata": {
        "colab": {
          "base_uri": "https://localhost:8080/"
        },
        "id": "5FngG_Tvxh6D",
        "outputId": "472b0bde-bc81-4916-c109-09c6d98d1eb3"
      },
      "execution_count": null,
      "outputs": [
        {
          "output_type": "execute_result",
          "data": {
            "text/plain": [
              "1667.0"
            ]
          },
          "metadata": {},
          "execution_count": 30
        }
      ]
    },
    {
      "cell_type": "code",
      "source": [
        "data.loc[(data['City']=='New York') & (   data['Category']==\"Dried Fruits & Nuts \"),'Revenue'].count()"
      ],
      "metadata": {
        "colab": {
          "base_uri": "https://localhost:8080/"
        },
        "id": "T90rqxnQyZYr",
        "outputId": "c18a5d5b-42b8-4ab8-847c-bf6f511710da"
      },
      "execution_count": null,
      "outputs": [
        {
          "output_type": "execute_result",
          "data": {
            "text/plain": [
              "0"
            ]
          },
          "metadata": {},
          "execution_count": 39
        }
      ]
    },
    {
      "cell_type": "code",
      "source": [
        "data.loc[(data['City']=='New York') & (   data['Category']==\"Dried Fruits & Nuts \"),'Revenue'].mean()"
      ],
      "metadata": {
        "colab": {
          "base_uri": "https://localhost:8080/"
        },
        "id": "2WEVkKt40Yzm",
        "outputId": "daddff02-e92e-4cc5-afde-86e58f27fb7d"
      },
      "execution_count": null,
      "outputs": [
        {
          "output_type": "execute_result",
          "data": {
            "text/plain": [
              "nan"
            ]
          },
          "metadata": {},
          "execution_count": 40
        }
      ]
    },
    {
      "cell_type": "code",
      "source": [
        "data.loc[(data['City']=='New York') & (   data['Category']==\"Dried Fruits & Nuts \"),'Revenue'] *=0.5\n",
        "data.loc[(data['City']=='New York') & (   data['Category']==\"Dried Fruits & Nuts \"),'Revenue'].mean()"
      ],
      "metadata": {
        "colab": {
          "base_uri": "https://localhost:8080/"
        },
        "id": "FSYnLTiE0fSk",
        "outputId": "af743c8b-4600-4091-cc49-cd3d6abc5a31"
      },
      "execution_count": null,
      "outputs": [
        {
          "output_type": "execute_result",
          "data": {
            "text/plain": [
              "nan"
            ]
          },
          "metadata": {},
          "execution_count": 42
        }
      ]
    },
    {
      "cell_type": "code",
      "source": [
        "data.loc[data['Revenue']== data['Revenue'].max(), 'Product Name'].unique()"
      ],
      "metadata": {
        "colab": {
          "base_uri": "https://localhost:8080/"
        },
        "id": "VlKW_IF_0oyR",
        "outputId": "c61c43ed-4df3-4286-fc0b-7a34250954db"
      },
      "execution_count": null,
      "outputs": [
        {
          "output_type": "execute_result",
          "data": {
            "text/plain": [
              "array(['Dried Apples'], dtype=object)"
            ]
          },
          "metadata": {},
          "execution_count": 43
        }
      ]
    },
    {
      "cell_type": "code",
      "source": [
        "data.loc[data['Revenue']== data['Revenue'].max(), 'City'].unique()"
      ],
      "metadata": {
        "colab": {
          "base_uri": "https://localhost:8080/"
        },
        "id": "QAwmLdC61H0f",
        "outputId": "a38d8e6a-455c-4fd9-902c-6f59b350f0b9"
      },
      "execution_count": null,
      "outputs": [
        {
          "output_type": "execute_result",
          "data": {
            "text/plain": [
              "array(['New York'], dtype=object)"
            ]
          },
          "metadata": {},
          "execution_count": 44
        }
      ]
    },
    {
      "cell_type": "markdown",
      "source": [],
      "metadata": {
        "id": "8IS24qq41MKw"
      }
    },
    {
      "cell_type": "code",
      "source": [
        "import seaborn as sns\n",
        "sns.set(rc={'figure.figsize': (10,6)}  )\n",
        "sns.countplot(x='Payment Type', data=data)"
      ],
      "metadata": {
        "id": "F2eP025O1MTf",
        "colab": {
          "base_uri": "https://localhost:8080/",
          "height": 411
        },
        "outputId": "c1549f94-418e-4090-a82b-c30209104b8a"
      },
      "execution_count": 46,
      "outputs": [
        {
          "output_type": "execute_result",
          "data": {
            "text/plain": [
              "<matplotlib.axes._subplots.AxesSubplot at 0x7fdda203fb50>"
            ]
          },
          "metadata": {},
          "execution_count": 46
        },
        {
          "output_type": "display_data",
          "data": {
            "text/plain": [
              "<Figure size 720x432 with 1 Axes>"
            ],
            "image/png": "[encoded data removed]"
          },
          "metadata": {}
        }
      ]
    }
  ]
}